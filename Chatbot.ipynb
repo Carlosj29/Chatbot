{
 "cells": [
  {
   "cell_type": "markdown",
   "id": "7f330622",
   "metadata": {},
   "source": [
    "## Chatbot"
   ]
  },
  {
   "cell_type": "code",
   "execution_count": null,
   "id": "597c52ef",
   "metadata": {},
   "outputs": [],
   "source": [
    "import re\n",
    "import random"
   ]
  },
  {
   "cell_type": "markdown",
   "id": "a53c94c8",
   "metadata": {},
   "source": [
    "- Con este metodo recibimos la entrada del usuario el cual con este metodo removeremos todos los caracteres especiales y signos de puntuacion para el cual vamos autilizar expresiones irregulares  \n",
    "- Con lower() pasaremos todo a minusculas pues Python es sensible y el usuario podria escribir una palabra en mayuscula y otra en minuscula y para Python eso podria ser una  cosas distinta"
   ]
  },
  {
   "cell_type": "code",
   "execution_count": null,
   "id": "c21faa68",
   "metadata": {},
   "outputs": [],
   "source": [
    "def get_response(user_input):\n",
    "    split_message = re.split(r'\\s|[,:;.?!-_]\\s*', user_input.lower())\n",
    "    response = check_all_messages(split_message)\n",
    "    return response                         "
   ]
  },
  {
   "cell_type": "markdown",
   "id": "90fc719e",
   "metadata": {},
   "source": [
    "En esta funcion calculare la probabilidad en la que el chatbot a retornado la contestacion de todas las opciones que tenemos que mas acerque a lo que el usuario necesita"
   ]
  },
  {
   "cell_type": "code",
   "execution_count": null,
   "id": "108806cc",
   "metadata": {},
   "outputs": [],
   "source": [
    "def message_probability(user_message, recognized_words, single_response = False, required_word = []):\n",
    "    message_certainty = 0\n",
    "    has_required_words = True\n",
    "    \n",
    "    # Vamos a iterar en que palabras son reconocidas en una lista que tendremos\n",
    "    for word in user_message:\n",
    "        if word in recognized_words:\n",
    "            message_certainty += 1\n",
    "            \n",
    "    # En esta variable guardaremos que exactitud hemos tenido de que mensaje es el mas adecuado\n",
    "    percentage = float(message_certainty) / float (len(recognized_words)) \n",
    "    \n",
    "    # Aqui vamos a iterar nuevamente las palabras requeridas y vamos a validar si la palabra no esta en el mensaje\n",
    "    # por lo cual vamos a decir el mensaje no cumple con la palabras requeridas y ain termina el bucle\n",
    "    # De lo contrario si tiene palabras requeridas o una respuesta simple entonces vamos a retornar aquella con un mayor porcentaje\n",
    "    for word in required_word:\n",
    "        if word not in user_message:\n",
    "            has_required_words = False    \n",
    "            break\n",
    "            \n",
    "    if has_required_words or single_response:\n",
    "        return int(percentage * 100)\n",
    "    else:\n",
    "        return 0"
   ]
  },
  {
   "cell_type": "markdown",
   "id": "f5e0f109",
   "metadata": {},
   "source": [
    "En esta funcion vamos a revisar todos los mensajes con todas las posibles respuestas"
   ]
  },
  {
   "cell_type": "code",
   "execution_count": null,
   "id": "837eb06f",
   "metadata": {},
   "outputs": [],
   "source": [
    "def check_all_messages(message):\n",
    "    highest_prob = {}\n",
    "    \n",
    "    def response(bot_response, list_of_words, single_response = False, required_words =[]):\n",
    "        nonlocal highest_prob\n",
    "        highest_prob[bot_response] = message_probability(message, list_of_words, single_response, required_words)\n",
    "    \n",
    "    # Aqui tenemos las respuesta que nos dara el chatbot y las posibles palabras qe escribira el usuario\n",
    "    response('Hola', ['hola', 'klk', 'saludos', 'buenas'], single_response = True)\n",
    "    response('Estoy bien y tu?', ['como', 'estas', 'va', 'vas', 'sientes'], required_words = ['como'])\n",
    "    response('Estamos ubicados en la calle Nuñez de Balboa nº 15 bajo', ['cual', 'ubicados', 'direccion', 'donde', 'ubicacion'], single_response=True)\n",
    "    response('El periodo de garantia es de doce meses', ['cual', 'periodo', 'garantia'], single_response=True)\n",
    "    response('Encantado de atenderte', ['gracias', 'te lo agradezco', 'thanks'], single_response=True)\n",
    "    response('Hasta pronto', ['adios', 'hasta', 'pronto'], single_response = True)\n",
    "    best_match = max(highest_prob, key = highest_prob.get)\n",
    "    \n",
    "    # Aqui mostraremos el porcentaje de la palabra retornada\n",
    "    # print(highest_prob)\n",
    "    \n",
    "    return unknown() if highest_prob[best_match] < 1 else best_match"
   ]
  },
  {
   "cell_type": "markdown",
   "id": "8cb2ccdf",
   "metadata": {},
   "source": [
    "En esta funcion mostraremos los posibles mensajes que nuestro chatbot nos mostrara cuando no sepa que es lo que el usuario quiere"
   ]
  },
  {
   "cell_type": "code",
   "execution_count": null,
   "id": "62159f2a",
   "metadata": {},
   "outputs": [],
   "source": [
    "def unknown():\n",
    "    response = ['¿Puedes decirlo de nuevo?', 'No estoy seguro de lo que quieres', 'Puedes buscarlo en nuestra pagina: www.atencionalcliente.com'][random.randrange(3)]\n",
    "    return response\n",
    "\n",
    "\n",
    "while True:\n",
    "    print(\"Bot: \" + get_response(input('You :')))\n",
    "    "
   ]
  },
  {
   "cell_type": "code",
   "execution_count": null,
   "id": "58bd1e77",
   "metadata": {},
   "outputs": [],
   "source": []
  }
 ],
 "metadata": {
  "kernelspec": {
   "display_name": "Python 3 (ipykernel)",
   "language": "python",
   "name": "python3"
  },
  "language_info": {
   "codemirror_mode": {
    "name": "ipython",
    "version": 3
   },
   "file_extension": ".py",
   "mimetype": "text/x-python",
   "name": "python",
   "nbconvert_exporter": "python",
   "pygments_lexer": "ipython3",
   "version": "3.11.5"
  }
 },
 "nbformat": 4,
 "nbformat_minor": 5
}
